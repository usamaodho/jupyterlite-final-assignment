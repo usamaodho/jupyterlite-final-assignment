{
  "cells": [
    {
      "cell_type": "markdown",
      "metadata": {},
      "source": [
        "# My JupyterLite Notebook for Data Science Final Assignment\n"
      ]
    },
    {
      "cell_type": "markdown",
      "metadata": {},
      "source": [
        "## Introduction\n",
        "\n",
        "This notebook demonstrates basic elements required for the final assignment. It contains markdown cells listing languages, libraries, tools, objectives, and a short set of arithmetic examples plus two code cells showing simple Python computations.\n"
      ]
    },
    {
      "cell_type": "markdown",
      "metadata": {},
      "source": [
        "## Data Science Languages\n",
        "\n",
        "- Python\n",
        "- R\n",
        "- SQL\n",
        "- Julia\n",
        "- Scala\n"
      ]
    },
    {
      "cell_type": "markdown",
      "metadata": {},
      "source": [
        "## Data Science Libraries\n",
        "\n",
        "- NumPy\n",
        "- Pandas\n",
        "- Matplotlib\n",
        "- Seaborn\n",
        "- Scikit-learn\n",
        "- ggplot2 (for R)\n"
      ]
    },
    {
      "cell_type": "markdown",
      "metadata": {},
      "source": [
        "## Data Science Tools\n",
        "\n",
        "| Tool Name | Purpose | Notes |\n",
        "|---|---|---|\n",
        "| JupyterLite | Create and share notebooks in browser | Runs fully in the browser |\n",
        "| GitHub | Version control & public hosting | Use to publish notebook |\n",
        "| Visual Studio Code | Code editing and notebook support | Optional local editing |\n",
        "| Anaconda | Package distribution & environments | Optional for local Python env |\n"
      ]
    },
    {
      "cell_type": "markdown",
      "metadata": {},
      "source": [
        "## Arithmetic Expression Examples\n",
        "\n",
        "The following code cells show simple arithmetic expressions and conversions.\n"
      ]
    },
    {
      "cell_type": "code",
      "execution_count": null,
      "metadata": {},
      "outputs": [],
      "source": [
        "# Multiply and add example\n",
        "# Multiply 7 by 6, then add 14\n",
        "result = 7 * 6 + 14\n",
        "result"
      ]
    },
    {
      "cell_type": "code",
      "execution_count": null,
      "metadata": {},
      "outputs": [],
      "source": [
        "# Convert minutes to hours\n",
        "minutes = 135\n",
        "hours = minutes // 60\n",
        "remaining_minutes = minutes % 60\n",
        "f\"{minutes} minutes is {hours} hour(s) and {remaining_minutes} minute(s).\""
      ]
    },
    {
      "cell_type": "markdown",
      "metadata": {},
      "source": [
        "## Objectives\n",
        "\n",
        "1. Demonstrate basic markdown usage in a JupyterLite notebook.\n",
        "2. Show simple Python computations in code cells.\n",
        "3. List common data science languages and libraries.\n",
        "4. Publish the notebook to GitHub and provide a public link.\n"
      ]
    },
    {
      "cell_type": "markdown",
      "metadata": {},
      "source": [
        "## Author\n",
        "\n",
        "Author: Usama odho"
      ]
    },
    {
      "cell_type": "markdown",
      "metadata": {},
      "source": [
        "## Share Your Notebook to GitHub (instructions)\n",
        "\n",
        "1. Save the notebook file (the browser should allow you to download the `.ipynb` file or use the GitHub integration available in the lab).\n",
        "2. Create a public repository on GitHub (name it something like `jupyterlite-final-assignment`).\n",
        "3. Upload the notebook file to the repository or push it from your local machine.\n",
        "4. Confirm the repository is public and copy the repository URL. This URL will be used to submit your assignment.\n"
      ]
    },
    {
      "cell_type": "markdown",
      "metadata": {},
      "source": [
        "## Screenshot of First Page\n",
        "\n",
        "Take a screenshot of the notebook's first page (covering the notebook header through the first executed outputs). Save the image as `.png` or `.jpg`.\n"
      ]
    },
    {
      "cell_type": "markdown",
      "metadata": {},
      "source": [
        "## Final Notes / Checklist\n",
        "\n",
        "- Ensure the notebook is publicly viewable on GitHub.\n",
        "- Confirm there are at least 8 markdown cells and 2 code cells (this notebook includes those).\n",
        "- Replace the placeholder author name with your real name.\n",
        "- Take the required screenshot and keep the GitHub link ready for submission.\n"
      ]
    }
  ],
  "metadata": {
    "kernelspec": {
      "display_name": "Python 3",
      "language": "python",
      "name": "python3"
    },
    "language_info": {
      "name": "python",
      "version": "3.10"
    }
  },
  "nbformat": 4,
  "nbformat_minor": 5
}
